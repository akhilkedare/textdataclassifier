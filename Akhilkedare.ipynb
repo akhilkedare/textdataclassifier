{
  "nbformat": 4,
  "nbformat_minor": 0,
  "metadata": {
    "colab": {
      "name": "Untitled5.ipynb",
      "provenance": [],
      "collapsed_sections": []
    },
    "kernelspec": {
      "name": "python3",
      "display_name": "Python 3"
    }
  },
  "cells": [

    {
      "cell_type": "code",
      "metadata": {
        "id": "dqTvHBrLCXEe",
        "colab_type": "code",
        "colab": {}
      },
      "source": [
        "import pandas as pd\n",
        "from sklearn.model_selection import train_test_split\n",
        "import string\n",
        "import re\n",
        "import nltk\n",
        "from nltk.corpus import stopwords\n",
        "from nltk.stem.porter import PorterStemmer\n",
        "from sklearn.pipeline import Pipeline\n",
        "from sklearn.feature_extraction.text import CountVectorizer, TfidfVectorizer\n",
        "from sklearn.feature_extraction.text import TfidfTransformer\n",
        "from sklearn.linear_model import LogisticRegression,SGDClassifier\n",
        "from sklearn.metrics import classification_report\n",
        "from sklearn.preprocessing import LabelEncoder\n",
        "from sklearn.metrics import roc_curve, roc_auc_score, auc\n",
        "from numpy import mean\n",
        "from sklearn.datasets import make_classification\n",
        "from sklearn.model_selection import cross_val_score\n",
        "from sklearn.model_selection import RepeatedStratifiedKFold\n",
        "from xgboost import XGBClassifier\n",
        "from sklearn.metrics import accuracy_score\n",
        "\n"
      ],
      "execution_count": 163,
      "outputs": []
    },
    {
      "cell_type": "code",
      "metadata": {
        "id": "lPfeq9jYCbT_",
        "colab_type": "code",
        "colab": {
          "base_uri": "https://localhost:8080/",
          "height": 153
        },
        "outputId": "626fe486-dbcc-443f-86bd-36d1ad2ba20b"
      },
      "source": [
        "data = pd.read_csv('/content/drive/My Drive/Colab Notebooks/data.csv')\n",
        "a = ['Text']\n",
        "X = data.Text\n",
        "def remove_punctuation(X):\n",
        "    no_punct=[words for words in X if words not in string.punctuation]\n",
        "    words_wo_punct=''.join(no_punct)\n",
        "    return words_wo_punct\n",
        "X = X.apply(lambda x: remove_punctuation(x.lower()))\n",
        "\n",
        "def tokenize(X):\n",
        "    split = re.split(\"\\W+\",X) \n",
        "    return split\n",
        "X = X.apply(lambda x: tokenize(x.lower()))\n",
        "\n",
        "stopword = nltk.corpus.stopwords.words('english')\n",
        "def remove_stopwords(X):\n",
        "    text=[word for word in X if word not in stopword]\n",
        "    return text\n",
        "X = X.apply(lambda x: remove_stopwords(x))\n",
        "\n",
        "ban=['xxxx']\n",
        "def remove_xxxx(X):\n",
        "    no_x = [words for words in X if words not in ban]\n",
        "    words_wo_xxxx= no_x\n",
        "    return words_wo_xxxx\n",
        "X=X.apply(lambda x: remove_xxxx(x))\n",
        "\n",
        "stemmer = PorterStemmer()\n",
        "def word_stemmer(X):\n",
        "  stem_text = \" \".join([stemmer.stem(i) for i in X])\n",
        "  return stem_text\n",
        "X=X.apply(lambda x: word_stemmer(x))\n",
        "\n",
        "label_encoder = LabelEncoder()\n",
        "data['Class'] = label_encoder.fit_transform(data['Class'])\n",
        "y= data.Class\n"
      ],
      "execution_count": 149,
      "outputs": [
        {
          "output_type": "stream",
          "text": [
            "[nltk_data] Downloading package stopwords to /root/nltk_data...\n",
            "[nltk_data]   Package stopwords is already up-to-date!\n"
          ],
          "name": "stdout"
        },
        {
          "output_type": "execute_result",
          "data": {
            "text/plain": [
              "0    outdat inform credit report previous disput ye...\n",
              "1    account credit report mistaken date mail debt ...\n",
              "2    compani refus provid verif valid debt per righ...\n",
              "3    complaint regard squar two financi refer cfpb ...\n",
              "4    start refin home mortgag process cash option x...\n",
              "Name: Text, dtype: object"
            ]
          },
          "metadata": {
            "tags": []
          },
          "execution_count": 149
        }
      ]
    },
    {
      "cell_type": "code",
      "metadata": {
        "id": "eSFpbN2rCndo",
        "colab_type": "code",
        "colab": {}
      },
      "source": [
        "train_X, val_X, train_y, val_y = train_test_split(X, y, test_size=0.3, random_state = 43)\n",
        "vectorizer = CountVectorizer()\n",
        "vectorizer.fit(train_X)\n",
        "vectorizer.fit(val_X)\n",
        "X_train = vectorizer.transform(train_X)\n",
        "X_val  = vectorizer.transform(val_X)"
      ],
      "execution_count": 165,
      "outputs": []
    },
    {
      "cell_type": "code",
      "metadata": {
        "id": "kiR1hYYPbKEH",
        "colab_type": "code",
        "colab": {
          "base_uri": "https://localhost:8080/",
          "height": 136
        },
        "outputId": "87b0aaea-4b23-4c9a-e149-64df70720c56"
      },
      "source": [
        "model = XGBClassifier(n_estimators=500,learning_rate=0.05, n_jobs=4,objective = 'multi:softmax',silent=1,tree_method='approx')\n",
        "model.fit(X_train,train_y,early_stopping_rounds=5, \n",
        "             eval_set=[(X_val, val_y)],\n",
        "             verbose=False)"
      ],
      "execution_count": 162,
      "outputs": [
        {
          "output_type": "execute_result",
          "data": {
            "text/plain": [
              "XGBClassifier(base_score=0.5, booster='gbtree', colsample_bylevel=1,\n",
              "              colsample_bynode=1, colsample_bytree=1, gamma=0,\n",
              "              learning_rate=0.05, max_delta_step=0, max_depth=3,\n",
              "              min_child_weight=1, missing=None, n_estimators=500, n_jobs=4,\n",
              "              nthread=None, objective='multi:softprob', random_state=0,\n",
              "              reg_alpha=0, reg_lambda=1, scale_pos_weight=1, seed=None,\n",
              "              silent=1, subsample=1, tree_method='approx', verbosity=1)"
            ]
          },
          "metadata": {
            "tags": []
          },
          "execution_count": 162
        }
      ]
    },
    {
      "cell_type": "code",
      "metadata": {
        "id": "mHs_9uEBfqct",
        "colab_type": "code",
        "colab": {
          "base_uri": "https://localhost:8080/",
          "height": 34
        },
        "outputId": "620ee0f0-ac72-4599-ac90-f4200643ef2d"
      },
      "source": [
        "y_pred = model.predict(X_val)\n",
        "print(accuracy_score(y_pred, val_y))\n",
        "my_tags = ['0','1','2','3']"
      ],
      "execution_count": 174,
      "outputs": [
        {
          "output_type": "stream",
          "text": [
            "0.8918499754439476\n"
          ],
          "name": "stdout"
        }
      ]
    },
    {
      "cell_type": "code",
      "metadata": {
        "id": "VCBmZ7wHbioE",
        "colab_type": "code",
        "colab": {
          "base_uri": "https://localhost:8080/",
          "height": 204
        },
        "outputId": "6f406e32-9339-4dda-a170-2cf550c57336"
      },
      "source": [
        "print(classification_report(val_y, y_pred,target_names=my_tags))"
      ],
      "execution_count": 175,
      "outputs": [
        {
          "output_type": "stream",
          "text": [
            "              precision    recall  f1-score   support\n",
            "\n",
            "           0       0.87      0.90      0.88     13326\n",
            "           1       0.95      0.95      0.95     10493\n",
            "           2       0.87      0.84      0.86      9328\n",
            "           3       0.88      0.85      0.86      5540\n",
            "\n",
            "    accuracy                           0.89     38687\n",
            "   macro avg       0.89      0.88      0.89     38687\n",
            "weighted avg       0.89      0.89      0.89     38687\n",
            "\n"
          ],
          "name": "stdout"
        }
      ]
    },
    {
      "cell_type": "code",
      "metadata": {
        "id": "5u76ict1hiKa",
        "colab_type": "code",
        "colab": {}
      },
      "source": [
        ""
      ],
      "execution_count": null,
      "outputs": []
    },
    {
      "cell_type": "code",
      "metadata": {
        "id": "aN5CA-P1Giqk",
        "colab_type": "code",
        "colab": {}
      },
      "source": [
        ""
      ],
      "execution_count": null,
      "outputs": []
    },
    {
      "cell_type": "code",
      "metadata": {
        "id": "XrN6gDpkli5F",
        "colab_type": "code",
        "colab": {}
      },
      "source": [
        ""
      ],
      "execution_count": null,
      "outputs": []
    },
    {
      "cell_type": "code",
      "metadata": {
        "id": "pa-35KJfqCUJ",
        "colab_type": "code",
        "colab": {}
      },
      "source": [
        ""
      ],
      "execution_count": null,
      "outputs": []
    },
    {
      "cell_type": "code",
      "metadata": {
        "id": "eZ5zW5KHt2pF",
        "colab_type": "code",
        "colab": {}
      },
      "source": [
        ""
      ],
      "execution_count": null,
      "outputs": []
    },
    {
      "cell_type": "code",
      "metadata": {
        "id": "2Tkhy8SVt9ot",
        "colab_type": "code",
        "colab": {}
      },
      "source": [
        ""
      ],
      "execution_count": null,
      "outputs": []
    },
    {
      "cell_type": "code",
      "metadata": {
        "id": "Hjizjz-2naBj",
        "colab_type": "code",
        "colab": {}
      },
      "source": [
        ""
      ],
      "execution_count": null,
      "outputs": []
    },
    {
      "cell_type": "code",
      "metadata": {
        "id": "8FeeQngWyu3l",
        "colab_type": "code",
        "colab": {}
      },
      "source": [
        ""
      ],
      "execution_count": null,
      "outputs": []
    }
  ]
}
